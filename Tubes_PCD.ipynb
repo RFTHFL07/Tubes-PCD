{
  "nbformat": 4,
  "nbformat_minor": 0,
  "metadata": {
    "colab": {
      "provenance": []
    },
    "kernelspec": {
      "name": "python3",
      "display_name": "Python 3"
    },
    "language_info": {
      "name": "python"
    }
  },
  "cells": [
    {
      "cell_type": "code",
      "source": [
        "from google.colab import drive\n",
        "drive.mount('/content/drive')\n",
        "import zipfile\n",
        "import os\n",
        "\n",
        "# Path ke dataset di Google Drive\n",
        "zip_path = '/content/drive/My Drive/Dataset/dataset.zip'\n",
        "\n",
        "# Ekstrak ke folder kerja\n",
        "with zipfile.ZipFile(zip_path, 'r') as zip_ref:\n",
        "    zip_ref.extractall('/content/dataset')\n"
      ],
      "metadata": {
        "colab": {
          "base_uri": "https://localhost:8080/"
        },
        "id": "pYHN-qVnyqGi",
        "outputId": "2065dcbc-83c7-42c6-f290-b4ce281df6ef"
      },
      "execution_count": 1,
      "outputs": [
        {
          "output_type": "stream",
          "name": "stdout",
          "text": [
            "Mounted at /content/drive\n"
          ]
        }
      ]
    },
    {
      "cell_type": "code",
      "execution_count": 9,
      "metadata": {
        "id": "Y7mgwfhgxOZU",
        "colab": {
          "base_uri": "https://localhost:8080/"
        },
        "outputId": "ad278bd3-316e-442c-bbe6-6341caadda7e"
      },
      "outputs": [
        {
          "output_type": "stream",
          "name": "stdout",
          "text": [
            "Accuracy: 80.72%\n",
            "Classification Report:\n",
            "              precision    recall  f1-score   support\n",
            "\n",
            "       Sehat       0.88      0.81      0.84        52\n",
            "      Caries       0.71      0.81      0.76        31\n",
            "\n",
            "    accuracy                           0.81        83\n",
            "   macro avg       0.79      0.81      0.80        83\n",
            "weighted avg       0.81      0.81      0.81        83\n",
            "\n"
          ]
        }
      ],
      "source": [
        "import cv2\n",
        "import numpy as np\n",
        "from skimage.feature import hog\n",
        "from sklearn.model_selection import train_test_split\n",
        "from sklearn.svm import SVC\n",
        "from sklearn.metrics import accuracy_score, classification_report\n",
        "import os\n",
        "\n",
        "# Step 1: Load the Dataset\n",
        "def load_images_from_folder(folder):\n",
        "    images = []\n",
        "    labels = []\n",
        "    for label in os.listdir(folder):\n",
        "        label_folder = os.path.join(folder, label)\n",
        "        if os.path.isdir(label_folder):\n",
        "            for filename in os.listdir(label_folder):\n",
        "                filepath = os.path.join(label_folder, filename)\n",
        "                img = cv2.imread(filepath, cv2.IMREAD_GRAYSCALE)\n",
        "                if img is not None:\n",
        "                    images.append(img)\n",
        "                    labels.append(label)\n",
        "    return images, labels\n",
        "\n",
        "# Step 2: Preprocess the Images\n",
        "def preprocess_images(images, target_size=(128, 128)):\n",
        "    resized_images = [cv2.resize(img, target_size) for img in images]\n",
        "    return resized_images\n",
        "\n",
        "# Step 3: Extract HOG Features\n",
        "def extract_hog_features(images):\n",
        "    hog_features = []\n",
        "    for img in images:\n",
        "        feature, _ = hog(img, orientations=9, pixels_per_cell=(8, 8),\n",
        "                         cells_per_block=(2, 2), block_norm='L2-Hys',\n",
        "                         visualize=True, channel_axis=None)  # Ganti multichannel dengan channel_axis=None\n",
        "        hog_features.append(feature)\n",
        "    return np.array(hog_features)\n",
        "\n",
        "\n",
        "# Step 4: Load, Preprocess, and Extract Features\n",
        "dataset_folder = '/content/dataset'\n",
        "images, labels = load_images_from_folder(dataset_folder)\n",
        "images = preprocess_images(images)\n",
        "hog_features = extract_hog_features(images)\n",
        "\n",
        "# Encode labels as integers\n",
        "unique_labels = list(set(labels))\n",
        "label_to_int = {label: idx for idx, label in enumerate(unique_labels)}\n",
        "int_labels = [label_to_int[label] for label in labels]\n",
        "\n",
        "# Step 5: Split the Data\n",
        "X_train, X_test, y_train, y_test = train_test_split(hog_features, int_labels, test_size=0.2, random_state=42)\n",
        "\n",
        "# Step 6: Train the SVM Model\n",
        "svm = SVC(kernel='linear', C=1.0, random_state=42)\n",
        "svm.fit(X_train, y_train)\n",
        "\n",
        "# Step 7: Evaluate the Model\n",
        "y_pred = svm.predict(X_test)\n",
        "accuracy = accuracy_score(y_test, y_pred)\n",
        "print(f\"Accuracy: {accuracy * 100:.2f}%\")\n",
        "print(\"Classification Report:\")\n",
        "print(classification_report(y_test, y_pred, target_names=unique_labels))\n",
        "\n",
        "\n"
      ]
    },
    {
      "cell_type": "code",
      "source": [
        "# Step 8: Test on New Images\n",
        "def predict_new_image(image_path, svm_model, label_mapping, target_size=(128, 128)):\n",
        "    img = cv2.imread(image_path, cv2.IMREAD_GRAYSCALE)\n",
        "    img_resized = cv2.resize(img, target_size)\n",
        "    feature, _ = hog(img_resized, orientations=9, pixels_per_cell=(8, 8),\n",
        "                     cells_per_block=(2, 2), block_norm='L2-Hys',\n",
        "                     visualize=True, channel_axis=None)  # Ubah multichannel menjadi channel_axis=None\n",
        "    feature = feature.reshape(1, -1)\n",
        "    prediction = svm_model.predict(feature)\n",
        "    predicted_label = [key for key, value in label_mapping.items() if value == prediction[0]]\n",
        "    return predicted_label[0]\n",
        "\n",
        "new_image_path1 = \"karies.jpg\"\n",
        "predicted_label1 = predict_new_image(new_image_path1, svm, label_to_int)\n",
        "print(f\"Predicted label: {predicted_label1}\")\n",
        "print(\"=================================================================================\")\n",
        "new_image_path2 = \"sehat.jpg\"\n",
        "predicted_label2 = predict_new_image(new_image_path2, svm, label_to_int)\n",
        "print(f\"Predicted label: {predicted_label2}\")"
      ],
      "metadata": {
        "colab": {
          "base_uri": "https://localhost:8080/"
        },
        "id": "9I3c2HOPbqEL",
        "outputId": "3eefb912-cab9-4847-94fe-8ab774609632"
      },
      "execution_count": 11,
      "outputs": [
        {
          "output_type": "stream",
          "name": "stdout",
          "text": [
            "Predicted label: Caries\n",
            "=================================================================================\n",
            "Predicted label: Sehat\n"
          ]
        }
      ]
    }
  ]
}